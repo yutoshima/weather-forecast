{
  "nbformat": 4,
  "nbformat_minor": 0,
  "metadata": {
    "colab": {
      "provenance": [],
      "authorship_tag": "ABX9TyMo+ZavUjBZg/QL19J9wIKL",
      "include_colab_link": true
    },
    "kernelspec": {
      "name": "python3",
      "display_name": "Python 3"
    },
    "language_info": {
      "name": "python"
    }
  },
  "cells": [
    {
      "cell_type": "markdown",
      "metadata": {
        "id": "view-in-github",
        "colab_type": "text"
      },
      "source": [
        "<a href=\"https://colab.research.google.com/github/yutoshima/weather-forecast/blob/main/%E5%A4%A9%E6%B0%97%E4%BA%88%E5%A0%B1.ipynb\" target=\"_parent\"><img src=\"https://colab.research.google.com/assets/colab-badge.svg\" alt=\"Open In Colab\"/></a>"
      ]
    },
    {
      "cell_type": "markdown",
      "source": [
        "# 天気データ分析スクリプト"
      ],
      "metadata": {
        "id": "Fm0wC9FO8Q0B"
      }
    },
    {
      "cell_type": "markdown",
      "source": [
        "##インポート\n",
        "必要なモジュールをインポートします"
      ],
      "metadata": {
        "id": "sUcO45h14NFC"
      }
    },
    {
      "cell_type": "code",
      "source": [
        "import csv"
      ],
      "metadata": {
        "id": "tCsp0UxU4KLX"
      },
      "execution_count": null,
      "outputs": []
    },
    {
      "cell_type": "markdown",
      "source": [
        "\n",
        "\n",
        "このスクリプトは、CSVファイルから神戸市の3日分の天気データを読み取り、天気の推移を分析し、確率に基づいた天気予報を提供します。\n",
        "\n",
        "## 関数: enter_yesterday_weather()\n",
        "\n",
        "ユーザーに昨日と一昨日の天気を入力してもらいます。"
      ],
      "metadata": {
        "id": "g9FjJ9Mj3IWb"
      }
    },
    {
      "cell_type": "code",
      "execution_count": null,
      "metadata": {
        "id": "9Q4J1Y4Oxi8D"
      },
      "outputs": [],
      "source": [
        "def enter_yesterday_weather():\n",
        "    # ユーザーに昨日と一昨日の天気を入力してもらう\n",
        "    weather_yesterday = input(\"昨日の天気は：\")\n",
        "    weather_before_yesterday = input(\"一昨日の天気は：\")\n",
        "    print(\"________________________________________________________________________\")\n",
        "    return weather_yesterday, weather_before_yesterday\n"
      ]
    },
    {
      "cell_type": "markdown",
      "source": [
        "##関数: read_weather_data(file_path)\n",
        "CSVファイルから天気データを読み取ります。"
      ],
      "metadata": {
        "id": "82ayJ5Pk3RxO"
      }
    },
    {
      "cell_type": "code",
      "source": [
        "def read_weather_data(file_path):\n",
        "    \"\"\"CSVファイルから天気データを読み取ります。\"\"\"\n",
        "    weather_list = []\n",
        "\n",
        "    # CSVファイルを開き、その中の天気データをリストに格納\n",
        "    with open(file_path, 'r') as f:\n",
        "        reader = csv.reader(f)\n",
        "        for row in reader:\n",
        "            weather_list.append(row[1])\n",
        "    return weather_list\n"
      ],
      "metadata": {
        "id": "l7FVrhGnyxDP"
      },
      "execution_count": null,
      "outputs": []
    },
    {
      "cell_type": "markdown",
      "source": [
        "##関数: create_weather_transitions(weather_list)\n",
        "3日間の天気推移のリストを作成します。\n",
        "\n"
      ],
      "metadata": {
        "id": "UGFKX4wW3XF8"
      }
    },
    {
      "cell_type": "code",
      "source": [
        "def create_weather_transitions(weather_list):\n",
        "    \"\"\"3日間の天気推移のリストを作成します。\"\"\"\n",
        "    weather_list_3 = [[weather_list[i], weather_list[i+1], weather_list[i+2]] for i in range(len(weather_list)-2)]\n",
        "    return weather_list_3\n"
      ],
      "metadata": {
        "id": "nzkIhWEA3ZcI"
      },
      "execution_count": null,
      "outputs": []
    },
    {
      "cell_type": "markdown",
      "source": [
        "##関数: find_unique_items(data_list)\n",
        "リスト内のユニークなアイテムを見つけます。\n",
        "\n"
      ],
      "metadata": {
        "id": "h86e_65z4ako"
      }
    },
    {
      "cell_type": "code",
      "source": [
        "def find_unique_items(data_list):\n",
        "    \"\"\"リスト内のユニークなアイテムを見つけます。\"\"\"\n",
        "    unique_list = []\n",
        "\n",
        "    # データリスト内の重複を除いたユニークなアイテムを抽出\n",
        "    for item in data_list:\n",
        "        if item not in unique_list:\n",
        "            unique_list.append(item)\n",
        "    return unique_list\n"
      ],
      "metadata": {
        "id": "0hyk1ZOx4hzm"
      },
      "execution_count": null,
      "outputs": []
    },
    {
      "cell_type": "markdown",
      "source": [
        "##関数: count_occurrences(data_list, unique_list)\n",
        "データリスト内のユニークなアイテムの出現回数をカウントします。\n"
      ],
      "metadata": {
        "id": "MZdZtWRZ3d7O"
      }
    },
    {
      "cell_type": "code",
      "source": [
        "def count_occurrences(data_list, unique_list):\n",
        "    \"\"\"データリスト内のユニークなアイテムの出現回数をカウントします。\"\"\"\n",
        "    count_list = [0] * len(unique_list)\n",
        "\n",
        "    # ユニークなアイテムごとに出現回数をカウント\n",
        "    for i in range(len(unique_list)):\n",
        "        count_list[i] = data_list.count(unique_list[i])\n",
        "    return count_list\n"
      ],
      "metadata": {
        "id": "2y2apjDm3i6Z"
      },
      "execution_count": null,
      "outputs": []
    },
    {
      "cell_type": "markdown",
      "source": [
        "##関数: analyze_weather_transitions(weather_list_3)\n",
        "3日間の天気推移の発生回数を分析します。"
      ],
      "metadata": {
        "id": "H7jWcYZT3mxz"
      }
    },
    {
      "cell_type": "code",
      "source": [
        "def analyze_weather_transitions(weather_list_3):\n",
        "    \"\"\"3日間の天気推移の発生回数を分析します。\"\"\"\n",
        "    # 天気推移のユニークなリストとその出現回数を取得\n",
        "    unique_transitions = find_unique_items(weather_list_3)\n",
        "    count_occurrences_list = count_occurrences(weather_list_3, unique_transitions)\n",
        "\n",
        "    # 天気推移と出現回数を組み合わせて新しいリストを作成\n",
        "    weather_transitions_n = [transition + [count] for transition, count in zip(unique_transitions, count_occurrences_list)]\n",
        "    return weather_transitions_n\n"
      ],
      "metadata": {
        "id": "UVTtsP2W3of0"
      },
      "execution_count": null,
      "outputs": []
    },
    {
      "cell_type": "markdown",
      "source": [
        "#関数: forecast_weather(weather_transitions_n, before_yesterday, yesterday)\n",
        "確率に基づいた天気予報を提供します。\n",
        "\n"
      ],
      "metadata": {
        "id": "sEXmPbhG3sBs"
      }
    },
    {
      "cell_type": "code",
      "source": [
        "def forecast_weather(weather_transitions_n, before_yesterday, yesterday):\n",
        "    \"\"\"確率に基づいた天気予報を提供します。\"\"\"\n",
        "    forecast_data = []\n",
        "\n",
        "    # 入力された天気条件に基づいて、対応する天気予報データを抽出\n",
        "    for transition in weather_transitions_n:\n",
        "        if transition[0] == before_yesterday and transition[1] == yesterday:\n",
        "            forecast_data.append([transition[2], transition[3]])\n",
        "\n",
        "    # 天気予報データが存在しない場合、メッセージを表示して終了\n",
        "    if not forecast_data:\n",
        "        print(\"すみません。わかりません。\")\n",
        "        return\n",
        "\n",
        "    # 天気予報データを出現回数でソート\n",
        "    forecast_data = sorted(forecast_data, key=lambda x: x[1], reverse=True)\n",
        "\n",
        "    # 確率に基づいて天気予報を表示\n",
        "    total_occurrences = sum(item[1] for item in forecast_data)\n",
        "    for item in forecast_data:\n",
        "        probability = round(item[1] / total_occurrences * 100, 2)\n",
        "        print(f\"今日は「{item[0]}」の確率が {probability}%です。\")\n"
      ],
      "metadata": {
        "id": "48HaumqR3tqL"
      },
      "execution_count": null,
      "outputs": []
    },
    {
      "cell_type": "markdown",
      "source": [
        "#実行\n",
        "定義した関数を実行していきます"
      ],
      "metadata": {
        "id": "o8G42CBS3yyS"
      }
    },
    {
      "cell_type": "code",
      "source": [
        "if __name__ == \"__main__\":\n",
        "    # 天気データCSVファイルへのファイルパス\n",
        "    file_path = '/content/data.csv'\n",
        "\n",
        "    # 過去2日間の天気状況を入力\n",
        "    weather_yesterday, weather_before_yesterday = enter_yesterday_weather()\n",
        "\n",
        "    # 天気データの読み取り\n",
        "    weather_list = read_weather_data(file_path)\n",
        "\n",
        "    # 3日間の天気推移の作成\n",
        "    weather_list_3 = create_weather_transitions(weather_list)\n",
        "\n",
        "    # 天気推移の分析\n",
        "    weather_transitions_n = analyze_weather_transitions(weather_list_3)\n",
        "\n",
        "    # 天気予報の提供\n",
        "    forecast_weather(weather_transitions_n, weather_before_yesterday, weather_yesterday)\n"
      ],
      "metadata": {
        "id": "GAzckAlQ3zEB"
      },
      "execution_count": null,
      "outputs": []
    }
  ]
}